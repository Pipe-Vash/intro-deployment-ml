{
 "cells": [
  {
   "cell_type": "code",
   "execution_count": 23,
   "metadata": {},
   "outputs": [
    {
     "name": "stderr",
     "output_type": "stream",
     "text": [
      "20:00:30 INFO:__main__: Loading Data...\n",
      "20:00:30 INFO:__main__: Loading model...\n",
      "20:00:30 INFO:__main__: Seraparating dataset into train and test\n"
     ]
    }
   ],
   "source": [
    "from sklearn.model_selection import train_test_split\n",
    "from sklearn.pipeline import Pipeline\n",
    "from sklearn.impute import SimpleImputer\n",
    "from sklearn.ensemble import GradientBoostingRegressor\n",
    "from sklearn.preprocessing import PowerTransformer\n",
    "\n",
    "import logging\n",
    "import sys\n",
    "import numpy as np\n",
    "import pandas as pd\n",
    "import os\n",
    "import json\n",
    "#import seaborn as sns\n",
    "#import matplotlib.pyplot as plt\n",
    "\n",
    "os.environ[\"GOOGLE_APPLICATION_CREDENTIALS\"] = \"/home/pipe-vash/Personal_Projects/intro-deployment-ml/mlops-fundamentals-390620-9d6bc1957416.json\"\n",
    "\n",
    "\n",
    "logging.basicConfig(\n",
    "    format='%(asctime)s %(levelname)s:%(name)s: %(message)s',\n",
    "    level=logging.INFO,\n",
    "    datefmt='%H:%M:%S',\n",
    "    stream=sys.stderr\n",
    ")\n",
    "\n",
    "logger = logging.getLogger(__name__)\n",
    "\n",
    "logger.info('Loading Data...')\n",
    "data = pd.read_csv('/home/pipe-vash/Personal_Projects/intro-deployment-ml/dataset/full_data.csv')\n",
    "\n",
    "\n",
    "# mejoras 1.0\n",
    "data_scaled = data.copy()\n",
    "scaler = PowerTransformer(method='box-cox')\n",
    "data_scaled = scaler.fit_transform(data_scaled)\n",
    "data_scaled = pd.DataFrame(data_scaled, columns = data.columns)\n",
    "\n",
    "\n",
    "logger.info('Loading model...')\n",
    "model = Pipeline([\n",
    "    ('imputer', SimpleImputer(strategy='mean',missing_values=np.nan)),\n",
    "    ('core_model', GradientBoostingRegressor())\n",
    "])\n",
    "\n",
    "logger.info('Seraparating dataset into train and test')\n",
    "X = data_scaled.drop(['worldwide_gross'], axis= 1)\n",
    "y = data_scaled['worldwide_gross']\n",
    "\n",
    "X_train, X_test, y_train, y_test = train_test_split(X, y, test_size=0.2, random_state=42)\n"
   ]
  },
  {
   "cell_type": "code",
   "execution_count": 24,
   "metadata": {},
   "outputs": [
    {
     "data": {
      "text/plain": [
       "'{\"opening_gross\": -0.7263681741853496, \"screens\": -1.0480550280002798, \"production_budget\": -1.1175815899923822, \"title_year\": 1.0642783300672123, \"aspect_ratio\": 0.7744997058770637, \"duration\": -1.8562183192466573, \"cast_total_facebook_likes\": -1.4954136408656198, \"budget\": -1.068243062268003, \"imdb_score\": -1.949377858583951}'"
      ]
     },
     "execution_count": 24,
     "metadata": {},
     "output_type": "execute_result"
    }
   ],
   "source": [
    "json.dumps(X_test.iloc[0].to_dict())"
   ]
  },
  {
   "cell_type": "code",
   "execution_count": 35,
   "metadata": {},
   "outputs": [
    {
     "data": {
      "text/plain": [
       "{1640: {'opening_gross': -0.7263681741853496,\n",
       "  'screens': -1.0480550280002798,\n",
       "  'production_budget': -1.1175815899923822,\n",
       "  'title_year': 1.0642783300672123,\n",
       "  'aspect_ratio': 0.7744997058770637,\n",
       "  'duration': -1.8562183192466573,\n",
       "  'cast_total_facebook_likes': -1.4954136408656198,\n",
       "  'budget': -1.068243062268003,\n",
       "  'imdb_score': -1.949377858583951}}"
      ]
     },
     "execution_count": 35,
     "metadata": {},
     "output_type": "execute_result"
    }
   ],
   "source": [
    "X_test.iloc[[0]].to_dict(orient=\"index\")"
   ]
  },
  {
   "cell_type": "code",
   "execution_count": 22,
   "metadata": {},
   "outputs": [
    {
     "data": {
      "text/plain": [
       "-1.1614833285743837"
      ]
     },
     "execution_count": 22,
     "metadata": {},
     "output_type": "execute_result"
    }
   ],
   "source": [
    "y_test.iloc[0]"
   ]
  },
  {
   "cell_type": "code",
   "execution_count": null,
   "metadata": {},
   "outputs": [],
   "source": [
    "{\n",
    "  \"opening_gross\": -0.7263681741853496,\n",
    "  \"screens\": -1.0480550280002798,\n",
    "  \"production_budget\": -1.1175815899923822,\n",
    "  \"title_year\": 1.0642783300672123,\n",
    "  \"aspect_ratio\": 0.7744997058770637,\n",
    "  \"duration\": -1.8562183192466573,\n",
    "  \"cast_total_facebook_likes\": -1.4954136408656198,\n",
    "  \"budget\": -1.068243062268003,\n",
    "  \"imdb_score\": -1.949377858583951\n",
    "}"
   ]
  },
  {
   "cell_type": "code",
   "execution_count": null,
   "metadata": {},
   "outputs": [],
   "source": [
    "{\"opening_gross\": 0.612700330030501,\n",
    " \"screens\": 0.9873942734958421,\n",
    " \"production_budget\": 0.9348209044422333,\n",
    " \"title_year\": -0.03656845434244162,\n",
    " \"aspect_ratio\": 0.7744997058770637,\n",
    " \"duration\": -1.1367928651989376,\n",
    " \"cast_total_facebook_likes\": 0.7265345673123926,\n",
    " \"budget\": 0.8637056193531543,\n",
    " \"imdb_score\": 0.17341230357450654}"
   ]
  },
  {
   "cell_type": "code",
   "execution_count": 13,
   "metadata": {},
   "outputs": [
    {
     "data": {
      "text/plain": [
       "opening_gross                1.743509e+07\n",
       "screens                      3.008000e+03\n",
       "production_budget            6.500000e+07\n",
       "worldwide_gross              1.801489e+08\n",
       "title_year                   2.012000e+03\n",
       "aspect_ratio                 2.350000e+00\n",
       "duration                     9.900000e+01\n",
       "cast_total_facebook_likes    1.375000e+03\n",
       "budget                       6.500000e+07\n",
       "imdb_score                   6.400000e+00\n",
       "Name: 1731, dtype: float64"
      ]
     },
     "execution_count": 13,
     "metadata": {},
     "output_type": "execute_result"
    }
   ],
   "source": [
    "data.iloc[1731]"
   ]
  },
  {
   "attachments": {},
   "cell_type": "markdown",
   "metadata": {},
   "source": [
    "# From a classmate"
   ]
  },
  {
   "cell_type": "code",
   "execution_count": null,
   "metadata": {},
   "outputs": [],
   "source": [
    "import json\n",
    "\n",
    "Xsample = X_test.sample(3, random_state=42)\n",
    "Xsample = Xsample.to_dict(orient=\"index\")\n",
    "\n",
    "Ysample = pd.DataFrame(y_test.sample(3, random_state=42))\n",
    "Ysample.columns = [\"worldwide_gross\"]\n",
    "Ysample = Ysample.to_dict(orient=\"index\")\n",
    "\n",
    "\n",
    "with open('../api/sample_to_test_API.txt', 'w') as convert_file:\n",
    "    convert_file.write(\"Tomamos 3 muestras aleatorias con la misma seed para hacer un test del modelo en FastAPI \\n \\n\")\n",
    "    convert_file.write(\"# input dict: \\n\")\n",
    "    convert_file.write(json.dumps(Xsample) + \"\\n \\n\")\n",
    "    convert_file.write(\"# output dict: \\n\")\n",
    "    convert_file.write(json.dumps(Ysample))"
   ]
  },
  {
   "cell_type": "code",
   "execution_count": null,
   "metadata": {},
   "outputs": [],
   "source": [
    "import json\n",
    "\n",
    "xsamples = X_test.sample(3, random_state=42)\n",
    "xsamples = xsamples.to_dict(orient=\"index\")\n",
    "\n",
    "ysample = pd.DataFrame(y_test.sample(3, random_state=42))\n",
    "ysample.columns = [\"worldwide_gross\"]\n",
    "ysample = ysample.to_dict(orient=\"index\")\n",
    "\n",
    "\n",
    "with open('../api/sample_to_test_API.txt', 'w') as convert_file:\n",
    "    convert_file.write(\"Tomamos 3 muestras aleatorias con la misma seed para hacer un test del modelo en FastAPI \\n \\n\")\n",
    "    convert_file.write(\"# input dict: \\n\")\n",
    "    for number_sample, value_x_sample in xsamples.items():\n",
    "        convert_file.write(f'Sample number: {number_sample}' + '\\n' + json.dumps(value_x_sample) + \"\\n\\n\")\n",
    "    convert_file.write(\"# output dict: \\n\")\n",
    "    for number_sample, value_y_sample in ysample.items():\n",
    "        convert_file.write(f'Sample number: {number_sample}' + '\\n' + json.dumps(value_y_sample) + \"\\n\\n\")"
   ]
  }
 ],
 "metadata": {
  "kernelspec": {
   "display_name": "venv",
   "language": "python",
   "name": "python3"
  },
  "language_info": {
   "codemirror_mode": {
    "name": "ipython",
    "version": 3
   },
   "file_extension": ".py",
   "mimetype": "text/x-python",
   "name": "python",
   "nbconvert_exporter": "python",
   "pygments_lexer": "ipython3",
   "version": "3.10.10"
  },
  "orig_nbformat": 4
 },
 "nbformat": 4,
 "nbformat_minor": 2
}
